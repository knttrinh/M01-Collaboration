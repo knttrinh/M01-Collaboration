{
 "cells": [
  {
   "cell_type": "markdown",
   "id": "e18c71c8-309c-4e66-919e-1c660c87fe0a",
   "metadata": {},
   "source": [
    "# Chapter 3 #\n",
    "*Kizzie Trinh, SDEV 220*\n",
    "\n",
    "**Section 3.1**"
   ]
  },
  {
   "cell_type": "markdown",
   "id": "1e625754-bce0-4335-81be-1a432f7dd018",
   "metadata": {},
   "source": [
    "print (60 * 60)"
   ]
  },
  {
   "cell_type": "markdown",
   "id": "e8bd6743-49ce-4d01-a69a-f1d583871ca6",
   "metadata": {},
   "source": [
    "**Section 3.2**"
   ]
  },
  {
   "cell_type": "code",
   "execution_count": 9,
   "id": "9d461f59-0a41-40be-a6d9-f07303f418d6",
   "metadata": {},
   "outputs": [
    {
     "name": "stdout",
     "output_type": "stream",
     "text": [
      "3600\n"
     ]
    }
   ],
   "source": [
    "seconds_per_hour = 60*60 \n",
    "print (seconds_per_hour)"
   ]
  },
  {
   "cell_type": "markdown",
   "id": "0dde4e44-3f12-41e9-81c4-5e276d082079",
   "metadata": {},
   "source": [
    "**Section 3.3**"
   ]
  },
  {
   "cell_type": "code",
   "execution_count": 10,
   "id": "8058b8e3-9477-449f-a0bb-102da813076d",
   "metadata": {},
   "outputs": [
    {
     "name": "stdout",
     "output_type": "stream",
     "text": [
      "86400\n"
     ]
    }
   ],
   "source": [
    "seconds_per_day = seconds_per_hour * 24 \n",
    "print (seconds_per_day)"
   ]
  },
  {
   "cell_type": "markdown",
   "id": "b2ac38c6-4c81-48cd-8285-82a9c602e8c5",
   "metadata": {},
   "source": [
    "**Section 3.4**"
   ]
  },
  {
   "cell_type": "code",
   "execution_count": 11,
   "id": "58f8564c-2322-431b-a6b4-4f94afd6633c",
   "metadata": {},
   "outputs": [
    {
     "name": "stdout",
     "output_type": "stream",
     "text": [
      "86400\n"
     ]
    }
   ],
   "source": [
    "seconds_per_day = 86400\n",
    "print (seconds_per_day)"
   ]
  },
  {
   "cell_type": "markdown",
   "id": "036af8af-aa66-44fc-9816-a9903891dd53",
   "metadata": {},
   "source": [
    "**Section 3.5**"
   ]
  },
  {
   "cell_type": "code",
   "execution_count": 12,
   "id": "bf9da6f3-829b-4902-8dc0-b2feba5da99b",
   "metadata": {},
   "outputs": [
    {
     "name": "stdout",
     "output_type": "stream",
     "text": [
      "24.0\n"
     ]
    }
   ],
   "source": [
    "print (seconds_per_day / seconds_per_hour) "
   ]
  },
  {
   "cell_type": "markdown",
   "id": "e73d608f-96ac-4fd6-9fe9-0b383ceb141c",
   "metadata": {},
   "source": [
    "**Section 3.6**"
   ]
  },
  {
   "cell_type": "code",
   "execution_count": 13,
   "id": "f61bfb8c-2254-4c29-80a3-8c9c791a4bcc",
   "metadata": {},
   "outputs": [
    {
     "name": "stdout",
     "output_type": "stream",
     "text": [
      "24\n"
     ]
    }
   ],
   "source": [
    "print (seconds_per_day // seconds_per_hour) "
   ]
  },
  {
   "cell_type": "markdown",
   "id": "3644d0e8-4dda-4c47-a33b-673fe56caeec",
   "metadata": {},
   "source": [
    "**Checking to see if 24.0 is eqaul to 24**"
   ]
  },
  {
   "cell_type": "code",
   "execution_count": 14,
   "id": "49b1350b-6b0a-4b36-b53e-b0c1b67adb87",
   "metadata": {},
   "outputs": [
    {
     "name": "stdout",
     "output_type": "stream",
     "text": [
      "True\n"
     ]
    }
   ],
   "source": [
    "print (24.0 == 24)"
   ]
  }
 ],
 "metadata": {
  "kernelspec": {
   "display_name": "Python 3 (ipykernel)",
   "language": "python",
   "name": "python3"
  },
  "language_info": {
   "codemirror_mode": {
    "name": "ipython",
    "version": 3
   },
   "file_extension": ".py",
   "mimetype": "text/x-python",
   "name": "python",
   "nbconvert_exporter": "python",
   "pygments_lexer": "ipython3",
   "version": "3.11.7"
  }
 },
 "nbformat": 4,
 "nbformat_minor": 5
}
